{
 "cells": [
  {
   "cell_type": "code",
   "execution_count": 1,
   "metadata": {},
   "outputs": [],
   "source": [
    "import json\n",
    "import time\n",
    "from datetime import datetime\n",
    "\n",
    "import finnhub"
   ]
  },
  {
   "cell_type": "code",
   "execution_count": 2,
   "metadata": {
    "tags": []
   },
   "outputs": [
    {
     "name": "stdout",
     "output_type": "stream",
     "text": [
      "test\n"
     ]
    }
   ],
   "source": [
    "print(\"test\")"
   ]
  },
  {
   "cell_type": "code",
   "execution_count": 13,
   "metadata": {
    "ExecuteTime": {
     "end_time": "2020-07-07T21:25:12.578419Z",
     "start_time": "2020-07-07T21:25:12.573139Z"
    }
   },
   "outputs": [],
   "source": [
    "def _getFinnhubClient(self):\n",
    "        with open('config/config.json') as config_file:\n",
    "            api_key = json.load(config_file)[\"api_key\"]\n",
    "        configuration = finnhub.Configuration(api_key={'token': api_key})\n",
    "        finnhub_client = finnhub.DefaultApi(finnhub.ApiClient(configuration))\n",
    "        return finnhub_client\n",
    "    \n",
    "finhub_client = _getFinnhubClient(\"a\")"
   ]
  },
  {
   "cell_type": "code",
   "execution_count": 20,
   "metadata": {
    "ExecuteTime": {
     "end_time": "2020-07-07T21:30:33.325621Z",
     "start_time": "2020-07-07T21:30:33.125496Z"
    }
   },
   "outputs": [],
   "source": [
    "trends = finhub_client.recommendation_trends('PYPL')"
   ]
  },
  {
   "cell_type": "code",
   "execution_count": 104,
   "metadata": {
    "ExecuteTime": {
     "end_time": "2020-07-07T22:44:07.237603Z",
     "start_time": "2020-07-07T22:44:07.233919Z"
    }
   },
   "outputs": [],
   "source": [
    "def _getByTicker(ticker, func):\n",
    "    try:\n",
    "        n = func(ticker)\n",
    "    except finnhub.ApiException as err:\n",
    "        print(f\"API Error {func} data for {ticker} due to {err}\")\n",
    "        return {}\n",
    "    except AttributeError:\n",
    "        # print(f\"Attribute error for {ticker} in {func}\")\n",
    "        return 0\n",
    "    return n"
   ]
  },
  {
   "cell_type": "code",
   "execution_count": 62,
   "metadata": {
    "ExecuteTime": {
     "end_time": "2020-07-07T22:12:27.760700Z",
     "start_time": "2020-07-07T22:12:27.753214Z"
    }
   },
   "outputs": [],
   "source": [
    "# What might be interesting is looking at the differnt reccomendations over time\n",
    "def GenerateMonthlyTrends(symbol):\n",
    "    recomendation_list = list()\n",
    "    for recomendation in _getByTicker(symbol, finhub_client.recommendation_trends):\n",
    "        try:\n",
    "            positive = recomendation.strong_buy + recomendation.buy\n",
    "            negative = recomendation.strong_sell + recomendation.sell\n",
    "            neutral = recomendation.hold\n",
    "            total = positive + negative + neutral\n",
    "            percent_positive = round(positive / total, 2) * 100\n",
    "            period = {\n",
    "                \"date\": recomendation.period,\n",
    "                \"positive\": positive,\n",
    "                \"negative\": negative,\n",
    "                \"neutral\": neutral,\n",
    "                \"total\": total,\n",
    "                \"percent_positive\": percent_positive,\n",
    "            }\n",
    "            recomendation_list.append(period)\n",
    "        except:\n",
    "            recomendation_list.append({\n",
    "                \"date\": -1,\n",
    "                \"positive\": -1,\n",
    "                \"negative\": -1,\n",
    "                \"neutral\": -1,\n",
    "                \"total\": -1,\n",
    "                \"percent_positive\": -1,\n",
    "            })\n",
    "    return recomendation_list"
   ]
  },
  {
   "cell_type": "code",
   "execution_count": 107,
   "metadata": {
    "ExecuteTime": {
     "end_time": "2020-07-07T22:49:27.125148Z",
     "start_time": "2020-07-07T22:49:26.675477Z"
    }
   },
   "outputs": [],
   "source": [
    "n = GenerateMonthlyTrends(\"abcb\")"
   ]
  },
  {
   "cell_type": "code",
   "execution_count": 69,
   "metadata": {
    "ExecuteTime": {
     "end_time": "2020-07-07T22:22:13.260678Z",
     "start_time": "2020-07-07T22:22:13.257660Z"
    }
   },
   "outputs": [],
   "source": [
    "current = n[0]\n",
    "compare = n[1]"
   ]
  },
  {
   "cell_type": "code",
   "execution_count": 77,
   "metadata": {
    "ExecuteTime": {
     "end_time": "2020-07-07T22:23:53.289027Z",
     "start_time": "2020-07-07T22:23:53.286303Z"
    }
   },
   "outputs": [],
   "source": [
    "def GetAmountChangeInPositiveByCycle(monthly_trends, cycle):\n",
    "    current = monthly_trends[0]\n",
    "    compare = monthly_trends[cycle]\n",
    "    positive_change = current['positive'] - compare['positive']\n",
    "    return positive_change"
   ]
  },
  {
   "cell_type": "code",
   "execution_count": 84,
   "metadata": {
    "ExecuteTime": {
     "end_time": "2020-07-07T22:24:36.121281Z",
     "start_time": "2020-07-07T22:24:36.117179Z"
    }
   },
   "outputs": [
    {
     "data": {
      "text/plain": [
       "-7"
      ]
     },
     "execution_count": 84,
     "metadata": {},
     "output_type": "execute_result"
    }
   ],
   "source": [
    "GetAmountChangeInPositiveByCycle(n,5)"
   ]
  },
  {
   "cell_type": "code",
   "execution_count": 114,
   "metadata": {
    "ExecuteTime": {
     "end_time": "2020-07-07T23:19:50.398653Z",
     "start_time": "2020-07-07T23:19:50.231092Z"
    }
   },
   "outputs": [
    {
     "data": {
      "text/plain": [
       "[{'date': '2020-07-01',\n",
       "  'positive': 2,\n",
       "  'negative': 7,\n",
       "  'neutral': 14,\n",
       "  'total': 23,\n",
       "  'percent_positive': 9.0},\n",
       " {'date': '2020-06-01',\n",
       "  'positive': 10,\n",
       "  'negative': 0,\n",
       "  'neutral': 6,\n",
       "  'total': 16,\n",
       "  'percent_positive': 62.0},\n",
       " {'date': '2020-05-01',\n",
       "  'positive': 11,\n",
       "  'negative': 1,\n",
       "  'neutral': 5,\n",
       "  'total': 17,\n",
       "  'percent_positive': 65.0},\n",
       " {'date': '2020-04-01',\n",
       "  'positive': 10,\n",
       "  'negative': 0,\n",
       "  'neutral': 9,\n",
       "  'total': 19,\n",
       "  'percent_positive': 53.0},\n",
       " {'date': '2020-03-01',\n",
       "  'positive': 10,\n",
       "  'negative': 0,\n",
       "  'neutral': 9,\n",
       "  'total': 19,\n",
       "  'percent_positive': 53.0},\n",
       " {'date': '2020-02-01',\n",
       "  'positive': 10,\n",
       "  'negative': 0,\n",
       "  'neutral': 9,\n",
       "  'total': 19,\n",
       "  'percent_positive': 53.0},\n",
       " {'date': '2020-01-01',\n",
       "  'positive': 10,\n",
       "  'negative': 0,\n",
       "  'neutral': 9,\n",
       "  'total': 19,\n",
       "  'percent_positive': 53.0},\n",
       " {'date': '2019-12-01',\n",
       "  'positive': 10,\n",
       "  'negative': 0,\n",
       "  'neutral': 9,\n",
       "  'total': 19,\n",
       "  'percent_positive': 53.0},\n",
       " {'date': '2019-11-01',\n",
       "  'positive': 10,\n",
       "  'negative': 0,\n",
       "  'neutral': 9,\n",
       "  'total': 19,\n",
       "  'percent_positive': 53.0},\n",
       " {'date': '2019-10-01',\n",
       "  'positive': 10,\n",
       "  'negative': 0,\n",
       "  'neutral': 9,\n",
       "  'total': 19,\n",
       "  'percent_positive': 53.0},\n",
       " {'date': '2019-09-01',\n",
       "  'positive': 10,\n",
       "  'negative': 0,\n",
       "  'neutral': 9,\n",
       "  'total': 19,\n",
       "  'percent_positive': 53.0},\n",
       " {'date': '2019-08-01',\n",
       "  'positive': 10,\n",
       "  'negative': 0,\n",
       "  'neutral': 9,\n",
       "  'total': 19,\n",
       "  'percent_positive': 53.0},\n",
       " {'date': '2019-07-01',\n",
       "  'positive': 10,\n",
       "  'negative': 0,\n",
       "  'neutral': 9,\n",
       "  'total': 19,\n",
       "  'percent_positive': 53.0},\n",
       " {'date': '2019-06-01',\n",
       "  'positive': 10,\n",
       "  'negative': 0,\n",
       "  'neutral': 9,\n",
       "  'total': 19,\n",
       "  'percent_positive': 53.0},\n",
       " {'date': '2019-05-01',\n",
       "  'positive': 10,\n",
       "  'negative': 0,\n",
       "  'neutral': 9,\n",
       "  'total': 19,\n",
       "  'percent_positive': 53.0},\n",
       " {'date': '2019-04-01',\n",
       "  'positive': 10,\n",
       "  'negative': 0,\n",
       "  'neutral': 9,\n",
       "  'total': 19,\n",
       "  'percent_positive': 53.0},\n",
       " {'date': '2019-03-01',\n",
       "  'positive': 10,\n",
       "  'negative': 0,\n",
       "  'neutral': 9,\n",
       "  'total': 19,\n",
       "  'percent_positive': 53.0},\n",
       " {'date': '2019-02-01',\n",
       "  'positive': 10,\n",
       "  'negative': 0,\n",
       "  'neutral': 9,\n",
       "  'total': 19,\n",
       "  'percent_positive': 53.0},\n",
       " {'date': '2019-01-01',\n",
       "  'positive': 10,\n",
       "  'negative': 0,\n",
       "  'neutral': 9,\n",
       "  'total': 19,\n",
       "  'percent_positive': 53.0}]"
      ]
     },
     "execution_count": 114,
     "metadata": {},
     "output_type": "execute_result"
    }
   ],
   "source": [
    "GenerateMonthlyTrends(\"adm\")"
   ]
  },
  {
   "cell_type": "code",
   "execution_count": null,
   "metadata": {},
   "outputs": [],
   "source": []
  }
 ],
 "metadata": {
  "kernelspec": {
   "display_name": "Python 3",
   "language": "python",
   "name": "python3"
  },
  "language_info": {
   "codemirror_mode": {
    "name": "ipython",
    "version": 3
   },
   "file_extension": ".py",
   "mimetype": "text/x-python",
   "name": "python",
   "nbconvert_exporter": "python",
   "pygments_lexer": "ipython3",
   "version": "3.7.6"
  },
  "varInspector": {
   "cols": {
    "lenName": 16,
    "lenType": 16,
    "lenVar": 40
   },
   "kernels_config": {
    "python": {
     "delete_cmd_postfix": "",
     "delete_cmd_prefix": "del ",
     "library": "var_list.py",
     "varRefreshCmd": "print(var_dic_list())"
    },
    "r": {
     "delete_cmd_postfix": ") ",
     "delete_cmd_prefix": "rm(",
     "library": "var_list.r",
     "varRefreshCmd": "cat(var_dic_list()) "
    }
   },
   "position": {
    "height": "369.85px",
    "left": "1422px",
    "right": "20px",
    "top": "120px",
    "width": "287px"
   },
   "types_to_exclude": [
    "module",
    "function",
    "builtin_function_or_method",
    "instance",
    "_Feature"
   ],
   "window_display": true
  }
 },
 "nbformat": 4,
 "nbformat_minor": 4
}
